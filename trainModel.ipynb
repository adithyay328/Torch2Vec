{
 "cells": [
  {
   "cell_type": "code",
   "execution_count": 1,
   "metadata": {},
   "outputs": [],
   "source": [
    "import random\n",
    "import os\n",
    "from textLoading import cleanReviewText, getText"
   ]
  },
  {
   "cell_type": "code",
   "execution_count": 2,
   "metadata": {},
   "outputs": [
    {
     "name": "stderr",
     "output_type": "stream",
     "text": [
      "/home/adithyay328/Documents/SoftwareProjects/Torch2Vec/venv/lib/python3.8/site-packages/tqdm/auto.py:22: TqdmWarning: IProgress not found. Please update jupyter and ipywidgets. See https://ipywidgets.readthedocs.io/en/stable/user_install.html\n",
      "  from .autonotebook import tqdm as notebook_tqdm\n"
     ]
    }
   ],
   "source": [
    "import vectorize\n",
    "\n",
    "DOCCOUNT = 20000\n",
    "VOCABSIZE = 5000\n",
    "\n",
    "vec = vectorize.Vectorizer(VOCABSIZE)\n",
    "for i in range(1000):\n",
    "    text = getText(\"aclImdb\")\n",
    "    vec.fit( [text] )\n",
    "\n",
    "vec.limitVocab()"
   ]
  },
  {
   "cell_type": "code",
   "execution_count": 3,
   "metadata": {},
   "outputs": [],
   "source": [
    "vec.save(\"vectorizer.dump\")"
   ]
  },
  {
   "cell_type": "code",
   "execution_count": 4,
   "metadata": {},
   "outputs": [],
   "source": [
    "vec = vectorize.Vectorizer.load(\"vectorizer.dump\")"
   ]
  },
  {
   "cell_type": "code",
   "execution_count": 5,
   "metadata": {},
   "outputs": [],
   "source": [
    "import model\n",
    "myModel = model.Word2VecModel(VOCABSIZE, 300)"
   ]
  },
  {
   "cell_type": "code",
   "execution_count": 6,
   "metadata": {},
   "outputs": [
    {
     "ename": "KeyboardInterrupt",
     "evalue": "",
     "output_type": "error",
     "traceback": [
      "\u001b[0;31m---------------------------------------------------------------------------\u001b[0m",
      "\u001b[0;31mKeyboardInterrupt\u001b[0m                         Traceback (most recent call last)",
      "\u001b[1;32m/home/adithyay328/Documents/SoftwareProjects/Torch2Vec/trainModel.ipynb Cell 6\u001b[0m in \u001b[0;36m<cell line: 10>\u001b[0;34m()\u001b[0m\n\u001b[1;32m     <a href='vscode-notebook-cell:/home/adithyay328/Documents/SoftwareProjects/Torch2Vec/trainModel.ipynb#W5sZmlsZQ%3D%3D?line=11'>12</a>\u001b[0m \u001b[39mfor\u001b[39;00m i \u001b[39min\u001b[39;00m \u001b[39mrange\u001b[39m(DOCCOUNT):\n\u001b[1;32m     <a href='vscode-notebook-cell:/home/adithyay328/Documents/SoftwareProjects/Torch2Vec/trainModel.ipynb#W5sZmlsZQ%3D%3D?line=12'>13</a>\u001b[0m     corpus\u001b[39m.\u001b[39mappend(getText(\u001b[39m\"\u001b[39m\u001b[39maclImdb\u001b[39m\u001b[39m\"\u001b[39m))\n\u001b[0;32m---> <a href='vscode-notebook-cell:/home/adithyay328/Documents/SoftwareProjects/Torch2Vec/trainModel.ipynb#W5sZmlsZQ%3D%3D?line=14'>15</a>\u001b[0m sampler \u001b[39m=\u001b[39m sample\u001b[39m.\u001b[39;49mDocumentSampler(corpus, vec, \u001b[39m3\u001b[39;49m, skipgram)\n\u001b[1;32m     <a href='vscode-notebook-cell:/home/adithyay328/Documents/SoftwareProjects/Torch2Vec/trainModel.ipynb#W5sZmlsZQ%3D%3D?line=16'>17</a>\u001b[0m \u001b[39mif\u001b[39;00m skipgram:\n\u001b[1;32m     <a href='vscode-notebook-cell:/home/adithyay328/Documents/SoftwareProjects/Torch2Vec/trainModel.ipynb#W5sZmlsZQ%3D%3D?line=17'>18</a>\u001b[0m     train\u001b[39m.\u001b[39mskipgram_train(myModel, sampler)\n",
      "File \u001b[0;32m~/Documents/SoftwareProjects/Torch2Vec/sample.py:19\u001b[0m, in \u001b[0;36mDocumentSampler.__init__\u001b[0;34m(self, listOfDocs, vectorizer, windowSize, skipgram)\u001b[0m\n\u001b[1;32m     16\u001b[0m \u001b[39mdef\u001b[39;00m \u001b[39m__init__\u001b[39m(\u001b[39mself\u001b[39m, listOfDocs, vectorizer, windowSize, skipgram):\n\u001b[1;32m     17\u001b[0m     \u001b[39mself\u001b[39m\u001b[39m.\u001b[39mlistOfSampleTuples \u001b[39m=\u001b[39m []\n\u001b[0;32m---> 19\u001b[0m     vectorizedDocs \u001b[39m=\u001b[39m vectorizer\u001b[39m.\u001b[39;49mdocs2Tensors(listOfDocs)\n\u001b[1;32m     21\u001b[0m     \u001b[39mfor\u001b[39;00m docNum \u001b[39min\u001b[39;00m \u001b[39mrange\u001b[39m(\u001b[39mlen\u001b[39m(vectorizedDocs)):\n\u001b[1;32m     22\u001b[0m         \u001b[39mfor\u001b[39;00m tokIndex \u001b[39min\u001b[39;00m \u001b[39mrange\u001b[39m(\u001b[39mlen\u001b[39m(vectorizedDocs[docNum])):\n",
      "File \u001b[0;32m~/Documents/SoftwareProjects/Torch2Vec/vectorize.py:58\u001b[0m, in \u001b[0;36mVectorizer.docs2Tensors\u001b[0;34m(self, docList)\u001b[0m\n\u001b[1;32m     55\u001b[0m listOfTensors \u001b[39m=\u001b[39m []\n\u001b[1;32m     57\u001b[0m \u001b[39m# Running doc through spacy so it can run its tokenization\u001b[39;00m\n\u001b[0;32m---> 58\u001b[0m doc \u001b[39m=\u001b[39m spacy(docList[i])\n\u001b[1;32m     60\u001b[0m \u001b[39mfor\u001b[39;00m tok \u001b[39min\u001b[39;00m doc:\n\u001b[1;32m     61\u001b[0m     tokenList\u001b[39m.\u001b[39mappend(tok\u001b[39m.\u001b[39mlower_)\n",
      "File \u001b[0;32m~/Documents/SoftwareProjects/Torch2Vec/venv/lib/python3.8/site-packages/spacy/language.py:1020\u001b[0m, in \u001b[0;36mLanguage.__call__\u001b[0;34m(self, text, disable, component_cfg)\u001b[0m\n\u001b[1;32m   1018\u001b[0m     error_handler \u001b[39m=\u001b[39m proc\u001b[39m.\u001b[39mget_error_handler()\n\u001b[1;32m   1019\u001b[0m \u001b[39mtry\u001b[39;00m:\n\u001b[0;32m-> 1020\u001b[0m     doc \u001b[39m=\u001b[39m proc(doc, \u001b[39m*\u001b[39;49m\u001b[39m*\u001b[39;49mcomponent_cfg\u001b[39m.\u001b[39;49mget(name, {}))  \u001b[39m# type: ignore[call-arg]\u001b[39;00m\n\u001b[1;32m   1021\u001b[0m \u001b[39mexcept\u001b[39;00m \u001b[39mKeyError\u001b[39;00m \u001b[39mas\u001b[39;00m e:\n\u001b[1;32m   1022\u001b[0m     \u001b[39m# This typically happens if a component is not initialized\u001b[39;00m\n\u001b[1;32m   1023\u001b[0m     \u001b[39mraise\u001b[39;00m \u001b[39mValueError\u001b[39;00m(Errors\u001b[39m.\u001b[39mE109\u001b[39m.\u001b[39mformat(name\u001b[39m=\u001b[39mname)) \u001b[39mfrom\u001b[39;00m \u001b[39me\u001b[39;00m\n",
      "File \u001b[0;32m~/Documents/SoftwareProjects/Torch2Vec/venv/lib/python3.8/site-packages/spacy/pipeline/lemmatizer.py:135\u001b[0m, in \u001b[0;36mLemmatizer.__call__\u001b[0;34m(self, doc)\u001b[0m\n\u001b[1;32m    133\u001b[0m     \u001b[39mfor\u001b[39;00m token \u001b[39min\u001b[39;00m doc:\n\u001b[1;32m    134\u001b[0m         \u001b[39mif\u001b[39;00m \u001b[39mself\u001b[39m\u001b[39m.\u001b[39moverwrite \u001b[39mor\u001b[39;00m token\u001b[39m.\u001b[39mlemma \u001b[39m==\u001b[39m \u001b[39m0\u001b[39m:\n\u001b[0;32m--> 135\u001b[0m             token\u001b[39m.\u001b[39mlemma_ \u001b[39m=\u001b[39m \u001b[39mself\u001b[39;49m\u001b[39m.\u001b[39;49mlemmatize(token)[\u001b[39m0\u001b[39m]\n\u001b[1;32m    136\u001b[0m     \u001b[39mreturn\u001b[39;00m doc\n\u001b[1;32m    137\u001b[0m \u001b[39mexcept\u001b[39;00m \u001b[39mException\u001b[39;00m \u001b[39mas\u001b[39;00m e:\n",
      "File \u001b[0;32m~/Documents/SoftwareProjects/Torch2Vec/venv/lib/python3.8/site-packages/spacy/pipeline/lemmatizer.py:214\u001b[0m, in \u001b[0;36mLemmatizer.rule_lemmatize\u001b[0;34m(self, token)\u001b[0m\n\u001b[1;32m    212\u001b[0m     \u001b[39mreturn\u001b[39;00m [string\u001b[39m.\u001b[39mlower()]\n\u001b[1;32m    213\u001b[0m \u001b[39m# See Issue #435 for example of where this logic is requied.\u001b[39;00m\n\u001b[0;32m--> 214\u001b[0m \u001b[39mif\u001b[39;00m \u001b[39mself\u001b[39;49m\u001b[39m.\u001b[39;49mis_base_form(token):\n\u001b[1;32m    215\u001b[0m     \u001b[39mreturn\u001b[39;00m [string\u001b[39m.\u001b[39mlower()]\n\u001b[1;32m    216\u001b[0m index_table \u001b[39m=\u001b[39m \u001b[39mself\u001b[39m\u001b[39m.\u001b[39mlookups\u001b[39m.\u001b[39mget_table(\u001b[39m\"\u001b[39m\u001b[39mlemma_index\u001b[39m\u001b[39m\"\u001b[39m, {})\n",
      "\u001b[0;31mKeyboardInterrupt\u001b[0m: "
     ]
    }
   ],
   "source": [
    "import train\n",
    "import sample\n",
    "import torch\n",
    "\n",
    "# This is where we can chose to run in word2vec mode\n",
    "# or skipgram mode. Just set the following variable\n",
    "skipgram = False\n",
    "\n",
    "EPOCHS = 2\n",
    "for i in range(EPOCHS):\n",
    "    corpus = []\n",
    "    for i in range(DOCCOUNT):\n",
    "        corpus.append(getText(\"aclImdb\"))\n",
    "    \n",
    "    sampler = sample.DocumentSampler(corpus, vec, 3, skipgram)\n",
    "        \n",
    "    if skipgram:\n",
    "        train.skipgram_train(myModel, sampler)\n",
    "    else:\n",
    "        train.cbow_train(myModel, sampler)\n",
    "\n",
    "    torch.save(myModel.state_dict(), \"model_state_dict.dump\")\n",
    "    torch.save(myModel, \"entire_model.dump\")"
   ]
  }
 ],
 "metadata": {
  "kernelspec": {
   "display_name": "Python 3.8.10 ('venv': venv)",
   "language": "python",
   "name": "python3"
  },
  "language_info": {
   "codemirror_mode": {
    "name": "ipython",
    "version": 3
   },
   "file_extension": ".py",
   "mimetype": "text/x-python",
   "name": "python",
   "nbconvert_exporter": "python",
   "pygments_lexer": "ipython3",
   "version": "3.8.10"
  },
  "orig_nbformat": 4,
  "vscode": {
   "interpreter": {
    "hash": "7b831a43953f0c48cfe387482ba7f8afd7340745cc38d0234b50f41afd6733b9"
   }
  }
 },
 "nbformat": 4,
 "nbformat_minor": 2
}
